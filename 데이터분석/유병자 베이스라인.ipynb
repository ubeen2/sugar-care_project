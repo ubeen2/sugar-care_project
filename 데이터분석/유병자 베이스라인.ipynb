{
 "cells": [
  {
   "cell_type": "code",
   "execution_count": 1,
   "id": "3a7d7380-075c-4975-976c-e2919c5d618d",
   "metadata": {},
   "outputs": [],
   "source": [
    "import pandas as pd\n",
    "import matplotlib.pyplot as plt\n",
    "import numpy as np\n",
    "import statsmodels.api as sm\n",
    "from scipy import stats\n",
    "\n",
    "%matplotlib inline\n",
    "from matplotlib import font_manager, rc\n",
    "\n",
    "font_location = \"C:\\Windows\\Fonts\\malgun.ttf\"\n",
    "font_name = font_manager.FontProperties(fname=font_location).get_name()\n",
    "rc('font', family=font_name)\n",
    "plt.rcParams['axes.unicode_minus'] = False\n",
    "\n"
   ]
  },
  {
   "cell_type": "code",
   "execution_count": 2,
   "id": "540390c5-2e89-4ddd-bbeb-75f9a92a9632",
   "metadata": {},
   "outputs": [],
   "source": [
    "import pandas as pd\n",
    "import numpy as np\n",
    "import matplotlib.pyplot as plt\n",
    "import xml.etree.ElementTree as ET\n",
    "from pathlib import Path\n",
    "\n",
    "def load_xml_glucose(path: str) -> pd.DataFrame:\n",
    "    root = ET.parse(path).getroot()\n",
    "    pid = str(root.attrib.get(\"id\", Path(path).stem.split(\"-\")[0]))\n",
    "    rows = []\n",
    "    for ev in root.find(\"glucose_level\").findall(\"event\"):\n",
    "        ts = ev.attrib[\"ts\"]\n",
    "        try:\n",
    "            ds = pd.to_datetime(ts, format=\"%d-%m-%Y %H:%M:%S\", errors=\"raise\")\n",
    "        except Exception:\n",
    "            ds = pd.to_datetime(ts, errors=\"coerce\")  \n",
    "        rows.append({\"patient_id\": pid, \"ds\": ds, \"y\": float(ev.attrib[\"value\"])})\n",
    "    df = (pd.DataFrame(rows)\n",
    "            .dropna(subset=[\"ds\"])\n",
    "            .sort_values(\"ds\")\n",
    "            .reset_index(drop=True))\n",
    "    df[\"y\"] = df[\"y\"].astype(\"float32\")\n",
    "    return df\n"
   ]
  },
  {
   "cell_type": "code",
   "execution_count": 11,
   "id": "eb2e02b6-9e4b-41fc-885b-a9c080ee80d7",
   "metadata": {},
   "outputs": [
    {
     "name": "stdout",
     "output_type": "stream",
     "text": [
      "10982 12640 17280\n",
      "group\n",
      "유병자    23622\n",
      "정상     17280\n",
      "dtype: int64\n"
     ]
    },
    {
     "data": {
      "text/html": [
       "<div>\n",
       "<style scoped>\n",
       "    .dataframe tbody tr th:only-of-type {\n",
       "        vertical-align: middle;\n",
       "    }\n",
       "\n",
       "    .dataframe tbody tr th {\n",
       "        vertical-align: top;\n",
       "    }\n",
       "\n",
       "    .dataframe thead th {\n",
       "        text-align: right;\n",
       "    }\n",
       "</style>\n",
       "<table border=\"1\" class=\"dataframe\">\n",
       "  <thead>\n",
       "    <tr style=\"text-align: right;\">\n",
       "      <th></th>\n",
       "      <th>patient_id</th>\n",
       "      <th>ds</th>\n",
       "      <th>y</th>\n",
       "      <th>group</th>\n",
       "    </tr>\n",
       "  </thead>\n",
       "  <tbody>\n",
       "    <tr>\n",
       "      <th>0</th>\n",
       "      <td>570</td>\n",
       "      <td>2021-12-07 16:29:00</td>\n",
       "      <td>101.0</td>\n",
       "      <td>유병자</td>\n",
       "    </tr>\n",
       "    <tr>\n",
       "      <th>1</th>\n",
       "      <td>570</td>\n",
       "      <td>2021-12-07 16:34:00</td>\n",
       "      <td>100.0</td>\n",
       "      <td>유병자</td>\n",
       "    </tr>\n",
       "    <tr>\n",
       "      <th>2</th>\n",
       "      <td>570</td>\n",
       "      <td>2021-12-07 16:39:00</td>\n",
       "      <td>100.0</td>\n",
       "      <td>유병자</td>\n",
       "    </tr>\n",
       "    <tr>\n",
       "      <th>3</th>\n",
       "      <td>570</td>\n",
       "      <td>2021-12-07 16:44:00</td>\n",
       "      <td>99.0</td>\n",
       "      <td>유병자</td>\n",
       "    </tr>\n",
       "    <tr>\n",
       "      <th>4</th>\n",
       "      <td>570</td>\n",
       "      <td>2021-12-07 16:49:00</td>\n",
       "      <td>98.0</td>\n",
       "      <td>유병자</td>\n",
       "    </tr>\n",
       "  </tbody>\n",
       "</table>\n",
       "</div>"
      ],
      "text/plain": [
       "  patient_id                  ds      y group\n",
       "0        570 2021-12-07 16:29:00  101.0   유병자\n",
       "1        570 2021-12-07 16:34:00  100.0   유병자\n",
       "2        570 2021-12-07 16:39:00  100.0   유병자\n",
       "3        570 2021-12-07 16:44:00   99.0   유병자\n",
       "4        570 2021-12-07 16:49:00   98.0   유병자"
      ]
     },
     "execution_count": 11,
     "metadata": {},
     "output_type": "execute_result"
    }
   ],
   "source": [
    "dis_570 = load_xml_glucose(\"570-ws-training.xml\")\n",
    "dis_570[\"group\"] = \"유병자\"\n",
    "\n",
    "\n",
    "dis_588 = load_xml_glucose(\"588-ws-training.xml\")\n",
    "dis_588[\"group\"] = \"유병자\"\n",
    "\n",
    "dis_563 = load_xml_glucose(\"563-ws-training.xml\")\n",
    "dis_563[\"group\"] = \"유병자_563\"\n",
    "\n",
    "\n",
    "norm = load_xml_glucose(\"normal_glucose.xml\")\n",
    "norm[\"group\"] = \"정상\"\n",
    "\n",
    "\n",
    "df_all = pd.concat([dis_570, dis_588, norm], ignore_index=True)\n",
    "\n",
    "print(len(dis_570), len(dis_588), len(norm))\n",
    "print(df_all.groupby(\"group\").size())\n",
    "\n",
    "df_all.head(5)\n"
   ]
  },
  {
   "cell_type": "code",
   "execution_count": 13,
   "id": "24db235f-fd95-4368-a030-550003980a4c",
   "metadata": {},
   "outputs": [],
   "source": [
    "min_len = min(len(dis_570), len(dis_588), len(norm))\n",
    "\n",
    "dis_570 = dis_570.iloc[:min_len].reset_index(drop=True)\n",
    "dis_588 = dis_588.iloc[:min_len].reset_index(drop=True)\n",
    "dis_563 = dis_588.iloc[:min_len].reset_index(drop=True)\n",
    "norm    = norm.iloc[:min_len].reset_index(drop=True)"
   ]
  },
  {
   "cell_type": "code",
   "execution_count": 7,
   "id": "96c0717a-e44b-421b-9ebf-402c0224752b",
   "metadata": {},
   "outputs": [
    {
     "name": "stdout",
     "output_type": "stream",
     "text": [
      "Index(['patient_id', 'ds', 'y', 'group'], dtype='object')\n",
      "  patient_id                  ds      y group\n",
      "0        570 2021-12-07 16:29:00  101.0   유병자\n",
      "1        570 2021-12-07 16:34:00  100.0   유병자\n",
      "2        570 2021-12-07 16:39:00  100.0   유병자\n"
     ]
    }
   ],
   "source": [
    "print(dis_570.columns)\n",
    "print(dis_570.head(3))\n"
   ]
  },
  {
   "cell_type": "code",
   "execution_count": 14,
   "id": "928cfc7c-e27c-468a-8603-aea1f13c7836",
   "metadata": {},
   "outputs": [
    {
     "name": "stdout",
     "output_type": "stream",
     "text": [
      "      group  naive@30m  MA3@30m  MA12@30m  naive@60m  MA3@60m  MA12@60m  \\\n",
      "0   유병자_570      14.38    17.54     22.98        NaN      NaN       NaN   \n",
      "1   유병자_570        NaN      NaN       NaN  23.490000    25.99     30.56   \n",
      "2   유병자_570        NaN      NaN       NaN        NaN      NaN       NaN   \n",
      "3   유병자_588      17.77    21.23     26.15        NaN      NaN       NaN   \n",
      "4   유병자_588        NaN      NaN       NaN  27.559999    29.78     32.83   \n",
      "5   유병자_588        NaN      NaN       NaN        NaN      NaN       NaN   \n",
      "6   유병자_563      17.77    21.23     26.15        NaN      NaN       NaN   \n",
      "7   유병자_563        NaN      NaN       NaN  27.559999    29.78     32.83   \n",
      "8   유병자_563        NaN      NaN       NaN        NaN      NaN       NaN   \n",
      "9        정상       9.71     9.82     11.34        NaN      NaN       NaN   \n",
      "10       정상        NaN      NaN       NaN  12.620000    12.81     14.21   \n",
      "11       정상        NaN      NaN       NaN        NaN      NaN       NaN   \n",
      "\n",
      "    naive@120m  MA3@120m  MA12@120m  \n",
      "0          NaN       NaN        NaN  \n",
      "1          NaN       NaN        NaN  \n",
      "2    37.580002     39.33      42.38  \n",
      "3          NaN       NaN        NaN  \n",
      "4          NaN       NaN        NaN  \n",
      "5    38.830002     40.12      41.87  \n",
      "6          NaN       NaN        NaN  \n",
      "7          NaN       NaN        NaN  \n",
      "8    38.830002     40.12      41.87  \n",
      "9          NaN       NaN        NaN  \n",
      "10         NaN       NaN        NaN  \n",
      "11   17.629999     17.27      17.02  \n",
      "         naive@30m  MA3@30m  MA12@30m  naive@60m  MA3@60m  MA12@60m  \\\n",
      "group                                                                 \n",
      "유병자_563      17.77    21.23     26.15  27.559999    29.78     32.83   \n",
      "유병자_570      14.38    17.54     22.98  23.490000    25.99     30.56   \n",
      "유병자_588      17.77    21.23     26.15  27.559999    29.78     32.83   \n",
      "정상            9.71     9.82     11.34  12.620000    12.81     14.21   \n",
      "\n",
      "         naive@120m  MA3@120m  MA12@120m  \n",
      "group                                     \n",
      "유병자_563   38.830002     40.12      41.87  \n",
      "유병자_570   37.580002     39.33      42.38  \n",
      "유병자_588   38.830002     40.12      41.87  \n",
      "정상        17.629999     17.27      17.02  \n"
     ]
    }
   ],
   "source": [
    "rows = []\n",
    "for label, df in [(\"유병자_570\", dis_570), (\"유병자_588\", dis_588), (\"유병자_563\", dis_563), (\"정상\", norm)]:\n",
    "    s = df[\"y\"]   \n",
    "    for H in (30, 60, 120):\n",
    "        res = baseline_mae_strict(s, H, ma_windows=(3,12))\n",
    "        row = {\"group\": label, **{k: round(v,2) for k,v in res.items()}}\n",
    "        rows.append(row)\n",
    "\n",
    "mae_tbl_multi = pd.DataFrame(rows)\n",
    "print(mae_tbl_multi)\n",
    "\n",
    "mae_tbl_mean = mae_tbl_multi.groupby(\"group\").mean(numeric_only=True)\n",
    "print(mae_tbl_mean)\n"
   ]
  },
  {
   "cell_type": "code",
   "execution_count": 17,
   "id": "3ce57ad9-ba94-465e-a85f-e463744b8b79",
   "metadata": {},
   "outputs": [
    {
     "data": {
      "image/png": "[encoded data removed]",
      "text/plain": [
       "<Figure size 1000x600 with 1 Axes>"
      ]
     },
     "metadata": {},
     "output_type": "display_data"
    }
   ],
   "source": [
    "\n",
    "label_map = {\n",
    "    \"naive@30m\": \"단순예측 (30분)\",\n",
    "    \"MA3@30m\": \"이동평균-3 (30분)\",\n",
    "    \"MA12@30m\": \"이동평균-12 (30분)\",\n",
    "    \"naive@60m\": \"단순예측 (60분)\",\n",
    "    \"MA3@60m\": \"이동평균-3 (60분)\",\n",
    "    \"MA12@60m\": \"이동평균-12 (60분)\",\n",
    "    \"naive@120m\": \"단순예측 (120분)\",\n",
    "    \"MA3@120m\": \"이동평균-3 (120분)\",\n",
    "    \"MA12@120m\": \"이동평균-12 (120분)\"\n",
    "}\n",
    "\n",
    "\n",
    "mae_compare_mean.rename(index=label_map, inplace=True)\n",
    "\n",
    "\n",
    "mae_compare_mean.rename(columns={\n",
    "    \"유병자 평균\": \"유병자\",\n",
    "    \"정상\": \"정상\"\n",
    "}, inplace=True)\n",
    "\n",
    "ax = mae_compare_mean.plot(\n",
    "    kind=\"bar\", figsize=(10,6), width=0.75, colormap=\"Set2\"\n",
    ")\n",
    "\n",
    "plt.ylabel(\"MAE (mg/dL)\")\n",
    "plt.title(\"정상 vs 유병자 Baseline MAE (30/60/120분)\")\n",
    "plt.xticks(rotation=45)\n",
    "\n",
    "\n",
    "for p in ax.patches:\n",
    "    ax.annotate(f\"{p.get_height():.1f}\",\n",
    "                (p.get_x() + p.get_width()/2., p.get_height()+0.3),\n",
    "                ha=\"center\", va=\"bottom\", fontsize=8)\n",
    "\n",
    "plt.legend(title=\"그룹\", loc=\"upper left\")\n",
    "plt.tight_layout()\n",
    "plt.show()\n"
   ]
  },
  {
   "cell_type": "raw",
   "id": "51eb61b8-7832-4375-90dc-2de895efd848",
   "metadata": {},
   "source": [
    "최소 성능 기준 120분 기준 베이스라인 확보. (42)"
   ]
  }
 ],
 "metadata": {
  "kernelspec": {
   "display_name": "Python 3 (ipykernel)",
   "language": "python",
   "name": "python3"
  },
  "language_info": {
   "codemirror_mode": {
    "name": "ipython",
    "version": 3
   },
   "file_extension": ".py",
   "mimetype": "text/x-python",
   "name": "python",
   "nbconvert_exporter": "python",
   "pygments_lexer": "ipython3",
   "version": "3.9.23"
  }
 },
 "nbformat": 4,
 "nbformat_minor": 5
}
